{
  "nbformat": 4,
  "nbformat_minor": 0,
  "metadata": {
    "colab": {
      "name": "[seminar1]cifar10.ipynb",
      "version": "0.3.2",
      "provenance": [],
      "include_colab_link": true
    },
    "kernelspec": {
      "name": "python3",
      "display_name": "Python 3"
    },
    "accelerator": "GPU"
  },
  "cells": [
    {
      "cell_type": "markdown",
      "metadata": {
        "id": "view-in-github",
        "colab_type": "text"
      },
      "source": [
        "<a href=\"https://colab.research.google.com/github/vis-ural/sklad/blob/master/Net.ipynb\" target=\"_parent\"><img src=\"https://colab.research.google.com/assets/colab-badge.svg\" alt=\"Open In Colab\"/></a>"
      ]
    },
    {
      "metadata": {
        "id": "N0IBJWo0DP4I",
        "colab_type": "text"
      },
      "cell_type": "markdown",
      "source": [
        "<img src=\"https://s8.hostingkartinok.com/uploads/images/2018/08/308b49fcfbc619d629fe4604bceb67ac.jpg\" width=500, height=450>\n",
        "<h3 style=\"text-align: center;\"><b>Физтех-Школа Прикладной математики и информатики (ФПМИ) МФТИ</b></h3>"
      ]
    },
    {
      "metadata": {
        "id": "MCPBV8rtDP4K",
        "colab_type": "text"
      },
      "cell_type": "markdown",
      "source": [
        "---"
      ]
    },
    {
      "metadata": {
        "id": "C1-7Lj1aDP4M",
        "colab_type": "text"
      },
      "cell_type": "markdown",
      "source": [
        "<h2 style=\"text-align: center;\"><b>Семинар 1: практическое занятие по обучению нейросетей (датасет CIFAR10)</b></h2>"
      ]
    },
    {
      "metadata": {
        "id": "yPHkkkPyDP4N",
        "colab_type": "text"
      },
      "cell_type": "markdown",
      "source": [
        "---"
      ]
    },
    {
      "metadata": {
        "colab_type": "code",
        "id": "Hgit3qqOf4hd",
        "colab": {}
      },
      "cell_type": "code",
      "source": [
        "import numpy as np\n",
        "import matplotlib.pyplot as plt\n",
        "\n",
        "from tqdm import tqdm_notebook\n",
        "\n",
        "import warnings\n",
        "warnings.filterwarnings(\"ignore\")\n",
        "\n",
        "import multiprocessing"
      ],
      "execution_count": 0,
      "outputs": []
    },
    {
      "metadata": {
        "colab_type": "text",
        "id": "CHUKPJJOf4hj"
      },
      "cell_type": "markdown",
      "source": [
        "Сегодня мы построим свою сеть (простейший классификатор изображений), посчитаем loss и проведем обновление весов.\n",
        "\n",
        "\n",
        "Данные\n",
        "----------------\n",
        "Мы будем работать с набором картинок. Для работы с ними есть специальный пакет ``torchvision``. В нем уже содержатся функции-загрузчики таких датасетов, как ImageNet, MNIST, CIFAR10. С последним сегодня мы и будем работать. В нем содержатся картинки RGB 32х32 следующих классов: \n",
        "1. ‘airplane’\n",
        "2. ‘automobile’\n",
        "3. ‘bird’\n",
        "4. ‘cat’\n",
        "5. ‘deer’\n",
        "6. ‘dog’\n",
        "7. ‘frog’\n",
        "8. ‘horse’\n",
        "9. ‘ship’\n",
        "10. ‘truck’\n",
        "\n",
        "Обучение классификатора\n",
        "----------------------------\n",
        "\n",
        "План обучения классификатора:\n",
        "\n",
        "1. Загружаем и нормализуем данные при помощи пакета\n",
        "   ``torchvision``\n",
        "2. Объявляем нейронную сети\n",
        "3. Объявляем функцию потерь\n",
        "4. Тренируем сеть при помощи тренировочной выборки (train data)\n",
        "5. Тестируем сеть при помощи валидационной выборки (test data)\n",
        "\n",
        "----------------------------\n",
        "\n",
        "Импортируем нужные нам пакеты из библиотеки ``torch``\n",
        "\n",
        "\n"
      ]
    },
    {
      "metadata": {
        "id": "yhMS-jMnDBTf",
        "colab_type": "code",
        "colab": {
          "base_uri": "https://localhost:8080/",
          "height": 139
        },
        "outputId": "2ff70e47-4657-49f1-a053-36e19ecfd31a"
      },
      "cell_type": "code",
      "source": [
        "!pip install torch"
      ],
      "execution_count": 4,
      "outputs": [
        {
          "output_type": "stream",
          "text": [
            "Collecting torch\n",
            "\u001b[?25l  Downloading https://files.pythonhosted.org/packages/49/0e/e382bcf1a6ae8225f50b99cc26effa2d4cc6d66975ccf3fa9590efcbedce/torch-0.4.1-cp36-cp36m-manylinux1_x86_64.whl (519.5MB)\n",
            "\u001b[K    100% |████████████████████████████████| 519.5MB 32kB/s \n",
            "tcmalloc: large alloc 1073750016 bytes == 0x59e2a000 @  0x7f13d29db2a4 0x591a07 0x5b5d56 0x502e9a 0x506859 0x502209 0x502f3d 0x506859 0x504c28 0x502540 0x502f3d 0x506859 0x504c28 0x502540 0x502f3d 0x506859 0x504c28 0x502540 0x502f3d 0x507641 0x502209 0x502f3d 0x506859 0x504c28 0x502540 0x502f3d 0x507641 0x504c28 0x502540 0x502f3d 0x507641\n",
            "\u001b[?25hInstalling collected packages: torch\n",
            "Successfully installed torch-0.4.1\n"
          ],
          "name": "stdout"
        }
      ]
    },
    {
      "metadata": {
        "id": "PXttLdkTDpZk",
        "colab_type": "code",
        "colab": {
          "base_uri": "https://localhost:8080/",
          "height": 275
        },
        "outputId": "0def5598-e020-4fe3-e230-d4c081ca4d56"
      },
      "cell_type": "code",
      "source": [
        "!pip install torchvision"
      ],
      "execution_count": 6,
      "outputs": [
        {
          "output_type": "stream",
          "text": [
            "Collecting torchvision\n",
            "\u001b[?25l  Downloading https://files.pythonhosted.org/packages/ca/0d/f00b2885711e08bd71242ebe7b96561e6f6d01fdb4b9dcf4d37e2e13c5e1/torchvision-0.2.1-py2.py3-none-any.whl (54kB)\n",
            "\u001b[K    100% |████████████████████████████████| 61kB 3.6MB/s \n",
            "\u001b[?25hRequirement already satisfied: six in /usr/local/lib/python3.6/dist-packages (from torchvision) (1.11.0)\n",
            "Collecting pillow>=4.1.1 (from torchvision)\n",
            "\u001b[?25l  Downloading https://files.pythonhosted.org/packages/62/94/5430ebaa83f91cc7a9f687ff5238e26164a779cca2ef9903232268b0a318/Pillow-5.3.0-cp36-cp36m-manylinux1_x86_64.whl (2.0MB)\n",
            "\u001b[K    100% |████████████████████████████████| 2.0MB 9.3MB/s \n",
            "\u001b[?25hRequirement already satisfied: numpy in /usr/local/lib/python3.6/dist-packages (from torchvision) (1.14.6)\n",
            "Requirement already satisfied: torch in /usr/local/lib/python3.6/dist-packages (from torchvision) (0.4.1)\n",
            "Installing collected packages: pillow, torchvision\n",
            "  Found existing installation: Pillow 4.0.0\n",
            "    Uninstalling Pillow-4.0.0:\n",
            "      Successfully uninstalled Pillow-4.0.0\n",
            "Successfully installed pillow-5.3.0 torchvision-0.2.1\n"
          ],
          "name": "stdout"
        }
      ]
    },
    {
      "metadata": {
        "colab_type": "code",
        "id": "E6h4kZ-if4hl",
        "colab": {}
      },
      "cell_type": "code",
      "source": [
        "import torch\n",
        "import torchvision\n",
        "from torch.autograd import Variable\n",
        "import torchvision.transforms as transforms"
      ],
      "execution_count": 0,
      "outputs": []
    },
    {
      "metadata": {
        "colab_type": "code",
        "id": "5KmxZQREgApi",
        "colab": {}
      },
      "cell_type": "code",
      "source": [
        "# http://pytorch.org/\n",
        "from os.path import exists\n",
        "from wheel.pep425tags import get_abbr_impl, get_impl_ver, get_abi_tag\n",
        "platform = '{}{}-{}'.format(get_abbr_impl(), get_impl_ver(), get_abi_tag())\n",
        "cuda_output = !ldconfig -p|grep cudart.so|sed -e 's/.*\\.\\([0-9]*\\)\\.\\([0-9]*\\)$/cu\\1\\2/'\n",
        "accelerator = cuda_output[0] if exists('/dev/nvidia0') else 'cpu'\n",
        "\n",
        "!pip install -q http://download.pytorch.org/whl/{accelerator}/torch-0.4.1-{platform}-linux_x86_64.whl torchvision\n",
        "import torch"
      ],
      "execution_count": 0,
      "outputs": []
    },
    {
      "metadata": {
        "colab_type": "text",
        "id": "aHKBkoJPf4hp"
      },
      "cell_type": "markdown",
      "source": [
        "В результате загрузки датасетов при помощи пакета torchvision мы получим картинки, содержащие значения в диапазоне [0,1], чтобы подавать их в нейросеть, нам нужно сделать из них тензоры со значениями в диапазоне [-1,1]\n",
        "\n",
        "Определим презобразование:"
      ]
    },
    {
      "metadata": {
        "colab_type": "code",
        "id": "GJeKQk9nf4hq",
        "colab": {}
      },
      "cell_type": "code",
      "source": [
        "transform = transforms.Compose(\n",
        "    \n",
        "[\n",
        "    transforms.ToTensor(),\n",
        "    transforms.Normalize((0.5, 0.5, 0.5), (0.5, 0.5, 0.5))\n",
        "]\n",
        "\n",
        ")"
      ],
      "execution_count": 0,
      "outputs": []
    },
    {
      "metadata": {
        "id": "GraQnXuLDlYS",
        "colab_type": "code",
        "colab": {
          "base_uri": "https://localhost:8080/",
          "height": 85
        },
        "outputId": "10ddf5de-4d1f-441d-fbf5-038d1a6b3440"
      },
      "cell_type": "code",
      "source": [
        "transform"
      ],
      "execution_count": 10,
      "outputs": [
        {
          "output_type": "execute_result",
          "data": {
            "text/plain": [
              "Compose(\n",
              "    ToTensor()\n",
              "    Normalize(mean=(0.5, 0.5, 0.5), std=(0.5, 0.5, 0.5))\n",
              ")"
            ]
          },
          "metadata": {
            "tags": []
          },
          "execution_count": 10
        }
      ]
    },
    {
      "metadata": {
        "colab_type": "text",
        "id": "hNOgh6Obf4hx"
      },
      "cell_type": "markdown",
      "source": [
        "Теперь вызовем загрузчики из пакета ``torchvision`` и скачаем обучающую выборку (trainset) и валидационную (testset)\n",
        "\n"
      ]
    },
    {
      "metadata": {
        "colab_type": "code",
        "id": "Vvub5ZZdf4hz",
        "outputId": "0975147f-b0cb-430f-b8c5-6b53c84e8180",
        "scrolled": false,
        "colab": {
          "base_uri": "https://localhost:8080/",
          "height": 51
        }
      },
      "cell_type": "code",
      "source": [
        "trainset = torchvision.datasets.CIFAR10(root='./data', \n",
        "                                        train=True,download=True, transform=transform)\n",
        "train_loader = torch.utils.data.DataLoader(trainset, batch_size=4,\n",
        "                                           shuffle=True, num_workers=0, pin_memory=False)\n",
        "\n",
        "testset = torchvision.datasets.CIFAR10(root='./data', train=False, \n",
        "                                       download=True, transform=transform)\n",
        "validation_loader = torch.utils.data.DataLoader(testset, batch_size=4,\n",
        "                                                shuffle=False, num_workers=0, pin_memory=False)"
      ],
      "execution_count": 11,
      "outputs": [
        {
          "output_type": "stream",
          "text": [
            "Downloading https://www.cs.toronto.edu/~kriz/cifar-10-python.tar.gz to ./data/cifar-10-python.tar.gz\n",
            "Files already downloaded and verified\n"
          ],
          "name": "stdout"
        }
      ]
    },
    {
      "metadata": {
        "colab_type": "text",
        "id": "DsFyaka7f4h5"
      },
      "cell_type": "markdown",
      "source": [
        "Определим константы"
      ]
    },
    {
      "metadata": {
        "colab_type": "code",
        "id": "UnfKGICOf4h6",
        "colab": {}
      },
      "cell_type": "code",
      "source": [
        "IMAGE_WIDTH = 32\n",
        "IMAGE_HEIGHT = 32\n",
        "COLOR_CHANNELS = 3\n",
        "EPOCHS = 50\n",
        "LEARNING_RATE = 0.01\n",
        "BATCH_SIZE = 32\n",
        "BATCH_IMAGE_COUNT = 10000\n",
        "CLASSES = ['plane', 'car', 'bird', 'cat', 'deer', 'dog', 'frog', 'horse', 'ship', 'truck']\n",
        "N_CLASSES = len(CLASSES)\n",
        "PLOT = False"
      ],
      "execution_count": 0,
      "outputs": []
    },
    {
      "metadata": {
        "colab_type": "code",
        "id": "mNWymneYf4h-",
        "outputId": "7582bbb6-4f5c-41c1-8f8b-3f7b66f8a296",
        "colab": {
          "base_uri": "https://localhost:8080/",
          "height": 184
        }
      },
      "cell_type": "code",
      "source": [
        "import matplotlib.pyplot as plt\n",
        "import numpy as np\n",
        "\n",
        "# Функция, которая показывает изображения\n",
        "def imshow(img):\n",
        "    img = img / 2 + 0.5     # деномрировка\n",
        "    npimg = img.numpy()\n",
        "    plt.imshow(np.transpose(npimg, (1, 2, 0)))\n",
        "\n",
        "\n",
        "# достаем случайные картинки из обучающей выборки\n",
        "dataiter = iter(train_loader)\n",
        "images, labels = dataiter.next()\n",
        "\n",
        "# вызываем функцию, реализующую демонстрацию изображений, что мы можем видеть на них?\n",
        "imshow(torchvision.utils.make_grid(images))\n",
        "# выведем метки классов отрисованных изображений\n",
        "print(' '.join('%5s' % CLASSES[labels[j]] for j in range(4)))"
      ],
      "execution_count": 15,
      "outputs": [
        {
          "output_type": "stream",
          "text": [
            "plane plane   car   car\n"
          ],
          "name": "stdout"
        },
        {
          "output_type": "display_data",
          "data": {
            "image/png": "[encoded data removed]",
            "text/plain": [
              "<matplotlib.figure.Figure at 0x7fb9760d2390>"
            ]
          },
          "metadata": {
            "tags": []
          }
        }
      ]
    },
    {
      "metadata": {
        "colab_type": "code",
        "id": "wysy5qO2f4iC",
        "colab": {}
      },
      "cell_type": "code",
      "source": [
        "class Net(torch.nn.Module):\n",
        "    def __init__(self, n_hidden_nodes, n_hidden_layers):\n",
        "        super(Net, self).__init__()\n",
        "        # Определяем слои\n",
        "        self.fc1 = torch.nn.Linear(IMAGE_WIDTH * IMAGE_WIDTH * COLOR_CHANNELS,\n",
        "                                   n_hidden_nodes)\n",
        "#         self.n_hidden_nodes=n_hidden_nodes\n",
        "#         self.n_hidden_layers=n_hidden_layers\n",
        "\n",
        "        self.out = torch.nn.Linear(n_hidden_nodes, N_CLASSES)\n",
        "\n",
        "    def forward(self, x):\n",
        "        x = x.view(-1, IMAGE_WIDTH * IMAGE_WIDTH * COLOR_CHANNELS)\n",
        "        # определяем функцию активации\n",
        "        sigmoid = torch.nn.Sigmoid()\n",
        "        x = sigmoid(self.fc1(x))\n",
        "        return torch.nn.functional.log_softmax(self.out(x))"
      ],
      "execution_count": 0,
      "outputs": []
    },
    {
      "metadata": {
        "colab_type": "code",
        "id": "sdi5bYJaf4iF",
        "colab": {}
      },
      "cell_type": "code",
      "source": [
        "def train(epoch, model, train_loader, optimizer, log_interval=100, cuda=None):\n",
        "    model.train()\n",
        "    correct = 0\n",
        "    for batch_idx, (data, target) in enumerate(train_loader):\n",
        "        data, target = Variable(data), Variable(target)\n",
        "        optimizer.zero_grad()\n",
        "        output = model(data)\n",
        "\n",
        "        pred = output.data.max(1)[1] # get the index of the max log-probability\n",
        "        correct += pred.eq(target.data).cpu().sum()\n",
        "        accuracy = 100. * correct / len(train_loader.dataset)\n",
        "        \n",
        "        \n",
        "        loss = torch.nn.functional.nll_loss(output, target)\n",
        "        loss.backward()\n",
        "        optimizer.step()\n",
        "        if batch_idx % 10000 == 0:\n",
        "            print('Train Epoch: {} [{}/{} ({:.0f}%)]\\tLoss: {:.6f}'.format(\n",
        "                epoch, batch_idx * len(data), len(train_loader.dataset),\n",
        "                100. * batch_idx / len(train_loader), loss.data[0], accuracy))\n"
      ],
      "execution_count": 0,
      "outputs": []
    },
    {
      "metadata": {
        "colab_type": "code",
        "id": "_MB7us3sf4iI",
        "colab": {}
      },
      "cell_type": "code",
      "source": [
        "def validate(loss_vector, accuracy_vector, model, validation_loader, cuda=None):\n",
        "    model.eval()\n",
        "    val_loss, correct = 0, 0\n",
        "    for data, target in validation_loader:\n",
        "        if cuda:\n",
        "            data, target = data.cuda(), target.cuda()\n",
        "        data, target = Variable(data, volatile=True), Variable(target)\n",
        "        output = model(data)\n",
        "        val_loss += torch.nn.functional.nll_loss(output, target).data[0]\n",
        "        pred = output.data.max(1)[1] # get the index of the max log-probability\n",
        "        correct += pred.eq(target.data).cpu().sum()\n",
        "\n",
        "    val_loss /= len(validation_loader)\n",
        "    loss_vector.append(val_loss)\n",
        "\n",
        "    accuracy = 100. * correct / len(validation_loader.dataset)\n",
        "    accuracy_vector.append(accuracy)\n",
        "\n",
        "    print('\\nValidation set: Average loss: {:.4f}, Accuracy: {}/{} ({:.0f}%)\\n'.format(\n",
        "        val_loss, correct, len(validation_loader.dataset), accuracy))"
      ],
      "execution_count": 0,
      "outputs": []
    },
    {
      "metadata": {
        "colab_type": "code",
        "id": "5Ta4nX1Uf4iK",
        "colab": {}
      },
      "cell_type": "code",
      "source": [
        "from tqdm import tqdm_notebook"
      ],
      "execution_count": 0,
      "outputs": []
    },
    {
      "metadata": {
        "colab_type": "code",
        "id": "HcykLY4af4iM",
        "outputId": "d71489f4-e3ca-4c80-90f8-e96ac00fbb1a",
        "colab": {
          "base_uri": "https://localhost:8080/",
          "height": 3417
        }
      },
      "cell_type": "code",
      "source": [
        "hidden_nodes = 10\n",
        "layers = 1\n",
        "model = Net(hidden_nodes, layers)\n",
        "optimizer = torch.optim.SGD(model.parameters(), lr=LEARNING_RATE)\n",
        "loss_vector = []\n",
        "acc_vector = []\n",
        "for epoch in range(1, EPOCHS + 1):\n",
        "    train(epoch, model, train_loader, optimizer)\n",
        "    validate(loss_vector, acc_vector, model, validation_loader)\n",
        "    if epoch == 40:\n",
        "        break"
      ],
      "execution_count": 20,
      "outputs": [
        {
          "output_type": "stream",
          "text": [
            "Train Epoch: 1 [0/50000 (0%)]\tLoss: 2.421833\n",
            "Train Epoch: 1 [40000/50000 (80%)]\tLoss: 2.170672\n",
            "\n",
            "Validation set: Average loss: 1.7744, Accuracy: 3886/10000 (38%)\n",
            "\n",
            "Train Epoch: 2 [0/50000 (0%)]\tLoss: 2.228775\n",
            "Train Epoch: 2 [40000/50000 (80%)]\tLoss: 1.668280\n",
            "\n",
            "Validation set: Average loss: 1.7300, Accuracy: 3932/10000 (39%)\n",
            "\n",
            "Train Epoch: 3 [0/50000 (0%)]\tLoss: 1.260921\n",
            "Train Epoch: 3 [40000/50000 (80%)]\tLoss: 1.695847\n",
            "\n",
            "Validation set: Average loss: 1.7109, Accuracy: 3906/10000 (39%)\n",
            "\n",
            "Train Epoch: 4 [0/50000 (0%)]\tLoss: 1.750006\n",
            "Train Epoch: 4 [40000/50000 (80%)]\tLoss: 1.897022\n",
            "\n",
            "Validation set: Average loss: 1.7009, Accuracy: 4021/10000 (40%)\n",
            "\n",
            "Train Epoch: 5 [0/50000 (0%)]\tLoss: 1.970238\n",
            "Train Epoch: 5 [40000/50000 (80%)]\tLoss: 2.225067\n",
            "\n",
            "Validation set: Average loss: 1.7007, Accuracy: 4032/10000 (40%)\n",
            "\n",
            "Train Epoch: 6 [0/50000 (0%)]\tLoss: 2.375973\n",
            "Train Epoch: 6 [40000/50000 (80%)]\tLoss: 3.032075\n",
            "\n",
            "Validation set: Average loss: 1.6931, Accuracy: 4062/10000 (40%)\n",
            "\n",
            "Train Epoch: 7 [0/50000 (0%)]\tLoss: 1.289550\n",
            "Train Epoch: 7 [40000/50000 (80%)]\tLoss: 2.176891\n",
            "\n",
            "Validation set: Average loss: 1.6820, Accuracy: 4070/10000 (40%)\n",
            "\n",
            "Train Epoch: 8 [0/50000 (0%)]\tLoss: 1.249073\n",
            "Train Epoch: 8 [40000/50000 (80%)]\tLoss: 1.708744\n",
            "\n",
            "Validation set: Average loss: 1.6872, Accuracy: 4084/10000 (40%)\n",
            "\n",
            "Train Epoch: 9 [0/50000 (0%)]\tLoss: 0.910252\n",
            "Train Epoch: 9 [40000/50000 (80%)]\tLoss: 1.254230\n",
            "\n",
            "Validation set: Average loss: 1.6966, Accuracy: 4103/10000 (41%)\n",
            "\n",
            "Train Epoch: 10 [0/50000 (0%)]\tLoss: 2.157849\n",
            "Train Epoch: 10 [40000/50000 (80%)]\tLoss: 2.001536\n",
            "\n",
            "Validation set: Average loss: 1.6862, Accuracy: 4091/10000 (40%)\n",
            "\n",
            "Train Epoch: 11 [0/50000 (0%)]\tLoss: 1.998277\n",
            "Train Epoch: 11 [40000/50000 (80%)]\tLoss: 1.391060\n",
            "\n",
            "Validation set: Average loss: 1.7055, Accuracy: 3995/10000 (39%)\n",
            "\n",
            "Train Epoch: 12 [0/50000 (0%)]\tLoss: 1.222565\n",
            "Train Epoch: 12 [40000/50000 (80%)]\tLoss: 1.987342\n",
            "\n",
            "Validation set: Average loss: 1.6951, Accuracy: 4067/10000 (40%)\n",
            "\n",
            "Train Epoch: 13 [0/50000 (0%)]\tLoss: 1.221334\n",
            "Train Epoch: 13 [40000/50000 (80%)]\tLoss: 1.118337\n",
            "\n",
            "Validation set: Average loss: 1.6922, Accuracy: 4036/10000 (40%)\n",
            "\n",
            "Train Epoch: 14 [0/50000 (0%)]\tLoss: 0.899435\n",
            "Train Epoch: 14 [40000/50000 (80%)]\tLoss: 1.424403\n",
            "\n",
            "Validation set: Average loss: 1.6675, Accuracy: 4160/10000 (41%)\n",
            "\n",
            "Train Epoch: 15 [0/50000 (0%)]\tLoss: 1.626203\n",
            "Train Epoch: 15 [40000/50000 (80%)]\tLoss: 2.287733\n",
            "\n",
            "Validation set: Average loss: 1.6790, Accuracy: 4123/10000 (41%)\n",
            "\n",
            "Train Epoch: 16 [0/50000 (0%)]\tLoss: 2.050089\n",
            "Train Epoch: 16 [40000/50000 (80%)]\tLoss: 1.588471\n",
            "\n",
            "Validation set: Average loss: 1.6864, Accuracy: 4094/10000 (40%)\n",
            "\n",
            "Train Epoch: 17 [0/50000 (0%)]\tLoss: 1.492907\n",
            "Train Epoch: 17 [40000/50000 (80%)]\tLoss: 1.996534\n",
            "\n",
            "Validation set: Average loss: 1.6942, Accuracy: 4046/10000 (40%)\n",
            "\n",
            "Train Epoch: 18 [0/50000 (0%)]\tLoss: 1.438050\n",
            "Train Epoch: 18 [40000/50000 (80%)]\tLoss: 2.137734\n",
            "\n",
            "Validation set: Average loss: 1.6928, Accuracy: 4067/10000 (40%)\n",
            "\n",
            "Train Epoch: 19 [0/50000 (0%)]\tLoss: 1.690738\n",
            "Train Epoch: 19 [40000/50000 (80%)]\tLoss: 1.733884\n",
            "\n",
            "Validation set: Average loss: 1.6956, Accuracy: 4063/10000 (40%)\n",
            "\n",
            "Train Epoch: 20 [0/50000 (0%)]\tLoss: 3.034608\n",
            "Train Epoch: 20 [40000/50000 (80%)]\tLoss: 1.839579\n",
            "\n",
            "Validation set: Average loss: 1.6843, Accuracy: 4077/10000 (40%)\n",
            "\n",
            "Train Epoch: 21 [0/50000 (0%)]\tLoss: 0.756599\n",
            "Train Epoch: 21 [40000/50000 (80%)]\tLoss: 0.958777\n",
            "\n",
            "Validation set: Average loss: 1.6819, Accuracy: 4046/10000 (40%)\n",
            "\n",
            "Train Epoch: 22 [0/50000 (0%)]\tLoss: 1.110753\n",
            "Train Epoch: 22 [40000/50000 (80%)]\tLoss: 0.678827\n",
            "\n",
            "Validation set: Average loss: 1.6837, Accuracy: 4068/10000 (40%)\n",
            "\n",
            "Train Epoch: 23 [0/50000 (0%)]\tLoss: 1.710519\n",
            "Train Epoch: 23 [40000/50000 (80%)]\tLoss: 1.977281\n",
            "\n",
            "Validation set: Average loss: 1.6802, Accuracy: 4112/10000 (41%)\n",
            "\n",
            "Train Epoch: 24 [0/50000 (0%)]\tLoss: 2.455856\n",
            "Train Epoch: 24 [40000/50000 (80%)]\tLoss: 1.110493\n",
            "\n",
            "Validation set: Average loss: 1.6863, Accuracy: 4096/10000 (40%)\n",
            "\n",
            "Train Epoch: 25 [0/50000 (0%)]\tLoss: 1.988255\n",
            "Train Epoch: 25 [40000/50000 (80%)]\tLoss: 1.349909\n",
            "\n",
            "Validation set: Average loss: 1.6925, Accuracy: 4066/10000 (40%)\n",
            "\n",
            "Train Epoch: 26 [0/50000 (0%)]\tLoss: 1.803268\n",
            "Train Epoch: 26 [40000/50000 (80%)]\tLoss: 1.229671\n",
            "\n",
            "Validation set: Average loss: 1.6942, Accuracy: 4011/10000 (40%)\n",
            "\n",
            "Train Epoch: 27 [0/50000 (0%)]\tLoss: 1.228340\n",
            "Train Epoch: 27 [40000/50000 (80%)]\tLoss: 1.336552\n",
            "\n",
            "Validation set: Average loss: 1.6796, Accuracy: 4104/10000 (41%)\n",
            "\n",
            "Train Epoch: 28 [0/50000 (0%)]\tLoss: 1.180259\n",
            "Train Epoch: 28 [40000/50000 (80%)]\tLoss: 1.175158\n",
            "\n",
            "Validation set: Average loss: 1.6916, Accuracy: 4088/10000 (40%)\n",
            "\n",
            "Train Epoch: 29 [0/50000 (0%)]\tLoss: 1.399379\n",
            "Train Epoch: 29 [40000/50000 (80%)]\tLoss: 1.409457\n",
            "\n",
            "Validation set: Average loss: 1.6924, Accuracy: 4103/10000 (41%)\n",
            "\n",
            "Train Epoch: 30 [0/50000 (0%)]\tLoss: 1.207305\n",
            "Train Epoch: 30 [40000/50000 (80%)]\tLoss: 2.149055\n",
            "\n",
            "Validation set: Average loss: 1.7014, Accuracy: 3986/10000 (39%)\n",
            "\n",
            "Train Epoch: 31 [0/50000 (0%)]\tLoss: 2.163399\n",
            "Train Epoch: 31 [40000/50000 (80%)]\tLoss: 1.525430\n",
            "\n",
            "Validation set: Average loss: 1.6864, Accuracy: 4087/10000 (40%)\n",
            "\n",
            "Train Epoch: 32 [0/50000 (0%)]\tLoss: 1.803944\n",
            "Train Epoch: 32 [40000/50000 (80%)]\tLoss: 1.204702\n",
            "\n",
            "Validation set: Average loss: 1.6979, Accuracy: 4069/10000 (40%)\n",
            "\n",
            "Train Epoch: 33 [0/50000 (0%)]\tLoss: 3.124369\n",
            "Train Epoch: 33 [40000/50000 (80%)]\tLoss: 0.856340\n",
            "\n",
            "Validation set: Average loss: 1.6917, Accuracy: 4100/10000 (41%)\n",
            "\n",
            "Train Epoch: 34 [0/50000 (0%)]\tLoss: 1.477564\n",
            "Train Epoch: 34 [40000/50000 (80%)]\tLoss: 1.845563\n",
            "\n",
            "Validation set: Average loss: 1.7130, Accuracy: 4005/10000 (40%)\n",
            "\n",
            "Train Epoch: 35 [0/50000 (0%)]\tLoss: 1.623241\n",
            "Train Epoch: 35 [40000/50000 (80%)]\tLoss: 1.544490\n",
            "\n",
            "Validation set: Average loss: 1.7005, Accuracy: 4152/10000 (41%)\n",
            "\n",
            "Train Epoch: 36 [0/50000 (0%)]\tLoss: 2.672635\n",
            "Train Epoch: 36 [40000/50000 (80%)]\tLoss: 2.486688\n",
            "\n",
            "Validation set: Average loss: 1.6925, Accuracy: 4043/10000 (40%)\n",
            "\n",
            "Train Epoch: 37 [0/50000 (0%)]\tLoss: 1.619813\n",
            "Train Epoch: 37 [40000/50000 (80%)]\tLoss: 1.141356\n",
            "\n",
            "Validation set: Average loss: 1.6873, Accuracy: 4136/10000 (41%)\n",
            "\n",
            "Train Epoch: 38 [0/50000 (0%)]\tLoss: 1.104109\n",
            "Train Epoch: 38 [40000/50000 (80%)]\tLoss: 1.648904\n",
            "\n",
            "Validation set: Average loss: 1.7003, Accuracy: 4059/10000 (40%)\n",
            "\n",
            "Train Epoch: 39 [0/50000 (0%)]\tLoss: 2.016198\n",
            "Train Epoch: 39 [40000/50000 (80%)]\tLoss: 1.813436\n",
            "\n",
            "Validation set: Average loss: 1.6891, Accuracy: 4097/10000 (40%)\n",
            "\n",
            "Train Epoch: 40 [0/50000 (0%)]\tLoss: 1.081590\n",
            "Train Epoch: 40 [40000/50000 (80%)]\tLoss: 1.917755\n",
            "\n",
            "Validation set: Average loss: 1.7018, Accuracy: 4038/10000 (40%)\n",
            "\n"
          ],
          "name": "stdout"
        }
      ]
    },
    {
      "metadata": {
        "id": "GzhqiDJwGaLx",
        "colab_type": "code",
        "colab": {
          "base_uri": "https://localhost:8080/",
          "height": 34
        },
        "outputId": "620e7fc3-7684-4677-c1d7-251158dc8f6e"
      },
      "cell_type": "code",
      "source": [
        "epoch"
      ],
      "execution_count": 22,
      "outputs": [
        {
          "output_type": "execute_result",
          "data": {
            "text/plain": [
              "40"
            ]
          },
          "metadata": {
            "tags": []
          },
          "execution_count": 22
        }
      ]
    },
    {
      "metadata": {
        "colab_type": "text",
        "id": "eLhItbeMf4iO"
      },
      "cell_type": "markdown",
      "source": [
        "Итак, мы обучили нашу сеть проходами по обучающей выборке. Давайте проверим, обучилась ли наша сеть. Проверим это путем предсказания меток классов для валидационной выборки."
      ]
    },
    {
      "metadata": {
        "id": "pCt89dfUGyI_",
        "colab_type": "code",
        "colab": {
          "base_uri": "https://localhost:8080/",
          "height": 187
        },
        "outputId": "ca4cf64e-b8be-4b0f-ff52-01ed5e080073"
      },
      "cell_type": "code",
      "source": [
        "loss_vector"
      ],
      "execution_count": 38,
      "outputs": [
        {
          "output_type": "execute_result",
          "data": {
            "text/plain": [
              "[tensor(1.8005),\n",
              " tensor(1.7423),\n",
              " tensor(1.7095),\n",
              " tensor(1.7176),\n",
              " tensor(1.7040),\n",
              " tensor(1.7070),\n",
              " tensor(1.6959),\n",
              " tensor(1.6993),\n",
              " tensor(1.7064),\n",
              " tensor(1.6862)]"
            ]
          },
          "metadata": {
            "tags": []
          },
          "execution_count": 38
        }
      ]
    },
    {
      "metadata": {
        "colab_type": "code",
        "id": "cuELsbq3f4iP",
        "outputId": "143c1517-7e47-4214-a92e-ac93f3a7cf89",
        "colab": {
          "base_uri": "https://localhost:8080/",
          "height": 361
        }
      },
      "cell_type": "code",
      "source": [
        "# Plot train loss and validation accuracy vs epochs for each learning rate\n",
        "epochs = [i for i in range(1, 41)]\n",
        "plt.plot(epochs, loss_vector)\n",
        "plt.xlabel(\"Epochs\")\n",
        "plt.ylabel(\"Loss\")\n",
        "plt.show()\n",
        "\n",
        " "
      ],
      "execution_count": 31,
      "outputs": [
        {
          "output_type": "display_data",
          "data": {
            "image/png": "[encoded data removed]",
            "text/plain": [
              "<matplotlib.figure.Figure at 0x7fb9712c9940>"
            ]
          },
          "metadata": {
            "tags": []
          }
        }
      ]
    },
    {
      "metadata": {
        "colab_type": "code",
        "id": "IDJfSHQif4iR",
        "outputId": "0bcd711a-0033-43b0-9689-ea564452ba03",
        "colab": {
          "base_uri": "https://localhost:8080/",
          "height": 184
        }
      },
      "cell_type": "code",
      "source": [
        "dataiter = iter(validation_loader)\n",
        "images, labels = dataiter.next()\n",
        "\n",
        "# выведем наши предсказания\n",
        "imshow(torchvision.utils.make_grid(images))\n",
        "print('GroundTruth: ', ' '.join('%5s' % CLASSES[labels[j]] for j in range(4)))\n",
        "\n",
        "outputs=model(images)"
      ],
      "execution_count": 36,
      "outputs": [
        {
          "output_type": "stream",
          "text": [
            "GroundTruth:    cat  ship  ship plane\n"
          ],
          "name": "stdout"
        },
        {
          "output_type": "display_data",
          "data": {
            "image/png": "[encoded data removed]",
            "text/plain": [
              "<matplotlib.figure.Figure at 0x7fb9756348d0>"
            ]
          },
          "metadata": {
            "tags": []
          }
        }
      ]
    },
    {
      "metadata": {
        "colab_type": "code",
        "id": "1Bt-VRMvf4iU",
        "outputId": "6226e1f7-4e63-49d3-f950-7dd19ddf0604",
        "colab": {
          "base_uri": "https://localhost:8080/",
          "height": 34
        }
      },
      "cell_type": "code",
      "source": [
        "_, predicted = torch.max(outputs, 1)\n",
        "\n",
        "print('Predicted: ', ' '.join('%5s' % CLASSES[predicted[j]]\n",
        "                              for j in range(4)))"
      ],
      "execution_count": 37,
      "outputs": [
        {
          "output_type": "stream",
          "text": [
            "Predicted:   frog truck truck  bird\n"
          ],
          "name": "stdout"
        }
      ]
    },
    {
      "metadata": {
        "colab_type": "text",
        "id": "FQYwDNB_f4iW"
      },
      "cell_type": "markdown",
      "source": [
        "Протестируем на всем тесте:"
      ]
    },
    {
      "metadata": {
        "colab_type": "code",
        "id": "6ZD9Lxi1f4iX",
        "outputId": "9dc4fb51-7826-4d51-a738-ae4dbbfc16ec",
        "colab": {
          "base_uri": "https://localhost:8080/",
          "height": 34
        }
      },
      "cell_type": "code",
      "source": [
        "correct = 0\n",
        "total = 0\n",
        "with torch.no_grad():\n",
        "    for data in validation_loader:\n",
        "        images, labels = data\n",
        "        outputs = model(images)\n",
        "        _, predicted = torch.max(outputs.data, 1)\n",
        "        total += labels.size(0)\n",
        "        correct += (predicted == labels).sum().item()\n",
        "\n",
        "print('Accuracy of the network on the 10000 test images: %d %%' % (\n",
        "    100 * correct / total))"
      ],
      "execution_count": 38,
      "outputs": [
        {
          "output_type": "stream",
          "text": [
            "Accuracy of the network on the 10000 test images: 40 %\n"
          ],
          "name": "stdout"
        }
      ]
    },
    {
      "metadata": {
        "colab_type": "code",
        "id": "2uxu2qysf4ia",
        "outputId": "f4355d3a-6bad-4c7c-c738-aaeafc8fe2ed",
        "colab": {
          "base_uri": "https://localhost:8080/",
          "height": 187
        }
      },
      "cell_type": "code",
      "source": [
        "class_correct = list(0. for i in range(10))\n",
        "class_total = list(0. for i in range(10))\n",
        "with torch.no_grad():\n",
        "    for data in validation_loader:\n",
        "        images, labels = data\n",
        "        outputs = model(images)\n",
        "        _, predicted = torch.max(outputs, 1)\n",
        "        c = (predicted == labels).squeeze()\n",
        "        for i in range(4):\n",
        "            label = labels[i]\n",
        "            class_correct[label] += c[i].item()\n",
        "            class_total[label] += 1\n",
        "\n",
        "\n",
        "for i in range(10):\n",
        "    print('Accuracy of %5s : %2d %%' % (\n",
        "        CLASSES[i], 100 * class_correct[i] / class_total[i]))"
      ],
      "execution_count": 39,
      "outputs": [
        {
          "output_type": "stream",
          "text": [
            "Accuracy of plane : 44 %\n",
            "Accuracy of   car : 49 %\n",
            "Accuracy of  bird : 34 %\n",
            "Accuracy of   cat : 18 %\n",
            "Accuracy of  deer : 33 %\n",
            "Accuracy of   dog : 29 %\n",
            "Accuracy of  frog : 47 %\n",
            "Accuracy of horse : 46 %\n",
            "Accuracy of  ship : 55 %\n",
            "Accuracy of truck : 46 %\n"
          ],
          "name": "stdout"
        }
      ]
    },
    {
      "metadata": {
        "colab_type": "text",
        "id": "kRuFMmwvf4id"
      },
      "cell_type": "markdown",
      "source": [
        "Каким образом мы можем улучшить качество распознавания и обучения?\n",
        "1. Добавить **dropout**\n",
        "\n",
        "2. Добавить **batchnorm** (2 семинар)\n",
        "3. Использовать свертки. Но об этом позже :)"
      ]
    },
    {
      "metadata": {
        "colab_type": "code",
        "id": "QwjLmYc7f4id",
        "colab": {}
      },
      "cell_type": "code",
      "source": [
        "class SecondNet(torch.nn.Module):\n",
        "    def __init__(self, n_hidden_nodes, n_hidden_layers,keep_rate=0.8):\n",
        "        super().__init__()\n",
        "        self.n_hidden_nodes = n_hidden_nodes\n",
        "        self.n_hidden_layers = n_hidden_layers\n",
        "#         if not keep_rate:\n",
        "#             keep_rate = 0.5\n",
        "#         self.keep_rate = keep_rate\n",
        "        # Set up perceptron layers and add dropout\n",
        "        self.fc1 = torch.nn.Linear(IMAGE_WIDTH * IMAGE_WIDTH * COLOR_CHANNELS,\n",
        "                                   self.n_hidden_nodes)\n",
        "        self.fc1_drop = torch.nn.Dropout(1 - keep_rate)\n",
        "        self.out = torch.nn.Linear(self.n_hidden_nodes, N_CLASSES)\n",
        "    \n",
        "    def forward(self, x):\n",
        "        x = x.view(-1, IMAGE_WIDTH * IMAGE_WIDTH * COLOR_CHANNELS)\n",
        "        sigmoid = torch.nn.Sigmoid()\n",
        "        x = sigmoid(self.fc1(x))\n",
        "        x = self.fc1_drop(x)\n",
        "        return torch.nn.functional.log_softmax(self.out(x))\n"
      ],
      "execution_count": 0,
      "outputs": []
    },
    {
      "metadata": {
        "colab_type": "code",
        "id": "l6aah5zAf4ig",
        "outputId": "8501d9b1-b125-4680-85b5-4596f95c8e17",
        "colab": {
          "base_uri": "https://localhost:8080/",
          "height": 2450
        }
      },
      "cell_type": "code",
      "source": [
        "В Pytorch есть возможность запускать вычисления на GPU"
      ],
      "execution_count": 0,
      "outputs": [
        {
          "output_type": "stream",
          "text": [
            "Train Epoch: 1 [0/50000 (0%)]\tLoss: 2.338229\n",
            "Train Epoch: 1 [40000/50000 (80%)]\tLoss: 2.356363\n",
            "\n",
            "Validation set: Average loss: 1.9368, Accuracy: 3253/10000 (32%)\n",
            "\n",
            "Train Epoch: 2 [0/50000 (0%)]\tLoss: 2.300326\n",
            "Train Epoch: 2 [40000/50000 (80%)]\tLoss: 1.809654\n",
            "\n",
            "Validation set: Average loss: 1.8590, Accuracy: 3606/10000 (36%)\n",
            "\n",
            "Train Epoch: 3 [0/50000 (0%)]\tLoss: 3.370393\n",
            "Train Epoch: 3 [40000/50000 (80%)]\tLoss: 1.909336\n",
            "\n",
            "Validation set: Average loss: 1.8124, Accuracy: 3713/10000 (37%)\n",
            "\n",
            "Train Epoch: 4 [0/50000 (0%)]\tLoss: 2.186283\n",
            "Train Epoch: 4 [40000/50000 (80%)]\tLoss: 2.361922\n",
            "\n",
            "Validation set: Average loss: 1.7815, Accuracy: 3809/10000 (38%)\n",
            "\n",
            "Train Epoch: 5 [0/50000 (0%)]\tLoss: 0.897958\n",
            "Train Epoch: 5 [40000/50000 (80%)]\tLoss: 1.988269\n",
            "\n",
            "Validation set: Average loss: 1.7591, Accuracy: 3885/10000 (38%)\n",
            "\n",
            "Train Epoch: 6 [0/50000 (0%)]\tLoss: 1.896815\n",
            "Train Epoch: 6 [40000/50000 (80%)]\tLoss: 1.614118\n",
            "\n",
            "Validation set: Average loss: 1.7428, Accuracy: 3922/10000 (39%)\n",
            "\n",
            "Train Epoch: 7 [0/50000 (0%)]\tLoss: 1.760607\n",
            "Train Epoch: 7 [40000/50000 (80%)]\tLoss: 2.053325\n",
            "\n",
            "Validation set: Average loss: 1.7305, Accuracy: 3995/10000 (39%)\n",
            "\n",
            "Train Epoch: 8 [0/50000 (0%)]\tLoss: 1.926093\n",
            "Train Epoch: 8 [40000/50000 (80%)]\tLoss: 2.213455\n",
            "\n",
            "Validation set: Average loss: 1.7185, Accuracy: 3965/10000 (39%)\n",
            "\n",
            "Train Epoch: 9 [0/50000 (0%)]\tLoss: 2.189739\n",
            "Train Epoch: 9 [40000/50000 (80%)]\tLoss: 1.453444\n",
            "\n",
            "Validation set: Average loss: 1.7085, Accuracy: 4042/10000 (40%)\n",
            "\n",
            "Train Epoch: 10 [0/50000 (0%)]\tLoss: 2.820039\n",
            "Train Epoch: 10 [40000/50000 (80%)]\tLoss: 1.548236\n",
            "\n",
            "Validation set: Average loss: 1.6996, Accuracy: 4098/10000 (40%)\n",
            "\n",
            "Train Epoch: 11 [0/50000 (0%)]\tLoss: 2.072497\n",
            "Train Epoch: 11 [40000/50000 (80%)]\tLoss: 1.271940\n",
            "\n",
            "Validation set: Average loss: 1.6920, Accuracy: 4122/10000 (41%)\n",
            "\n",
            "Train Epoch: 12 [0/50000 (0%)]\tLoss: 1.995679\n",
            "Train Epoch: 12 [40000/50000 (80%)]\tLoss: 1.331770\n",
            "\n",
            "Validation set: Average loss: 1.6854, Accuracy: 4136/10000 (41%)\n",
            "\n",
            "Train Epoch: 13 [0/50000 (0%)]\tLoss: 2.023359\n",
            "Train Epoch: 13 [40000/50000 (80%)]\tLoss: 2.044176\n",
            "\n",
            "Validation set: Average loss: 1.6779, Accuracy: 4185/10000 (41%)\n",
            "\n",
            "Train Epoch: 14 [0/50000 (0%)]\tLoss: 1.057836\n",
            "Train Epoch: 14 [40000/50000 (80%)]\tLoss: 1.065666\n",
            "\n",
            "Validation set: Average loss: 1.6732, Accuracy: 4215/10000 (42%)\n",
            "\n",
            "Train Epoch: 15 [0/50000 (0%)]\tLoss: 1.633729\n",
            "Train Epoch: 15 [40000/50000 (80%)]\tLoss: 0.986622\n",
            "\n",
            "Validation set: Average loss: 1.6654, Accuracy: 4238/10000 (42%)\n",
            "\n",
            "Train Epoch: 16 [0/50000 (0%)]\tLoss: 1.434730\n",
            "Train Epoch: 16 [40000/50000 (80%)]\tLoss: 1.619697\n",
            "\n",
            "Validation set: Average loss: 1.6601, Accuracy: 4269/10000 (42%)\n",
            "\n",
            "Train Epoch: 17 [0/50000 (0%)]\tLoss: 1.651691\n",
            "Train Epoch: 17 [40000/50000 (80%)]\tLoss: 0.917030\n",
            "\n",
            "Validation set: Average loss: 1.6543, Accuracy: 4299/10000 (42%)\n",
            "\n",
            "Train Epoch: 18 [0/50000 (0%)]\tLoss: 1.009257\n",
            "Train Epoch: 18 [40000/50000 (80%)]\tLoss: 1.209028\n",
            "\n",
            "Validation set: Average loss: 1.6496, Accuracy: 4312/10000 (43%)\n",
            "\n",
            "Train Epoch: 19 [0/50000 (0%)]\tLoss: 1.292815\n",
            "Train Epoch: 19 [40000/50000 (80%)]\tLoss: 1.692756\n",
            "\n",
            "Validation set: Average loss: 1.6448, Accuracy: 4341/10000 (43%)\n",
            "\n",
            "Train Epoch: 20 [0/50000 (0%)]\tLoss: 1.113770\n",
            "Train Epoch: 20 [40000/50000 (80%)]\tLoss: 2.953823\n",
            "\n",
            "Validation set: Average loss: 1.6401, Accuracy: 4373/10000 (43%)\n",
            "\n",
            "Train Epoch: 21 [0/50000 (0%)]\tLoss: 1.531117\n",
            "Train Epoch: 21 [40000/50000 (80%)]\tLoss: 2.857919\n",
            "\n",
            "Validation set: Average loss: 1.6353, Accuracy: 4373/10000 (43%)\n",
            "\n",
            "Train Epoch: 22 [0/50000 (0%)]\tLoss: 1.897084\n",
            "Train Epoch: 22 [40000/50000 (80%)]\tLoss: 1.062314\n",
            "\n",
            "Validation set: Average loss: 1.6316, Accuracy: 4369/10000 (43%)\n",
            "\n",
            "Train Epoch: 23 [0/50000 (0%)]\tLoss: 0.908942\n",
            "Train Epoch: 23 [40000/50000 (80%)]\tLoss: 1.796218\n",
            "\n",
            "Validation set: Average loss: 1.6308, Accuracy: 4309/10000 (43%)\n",
            "\n",
            "Train Epoch: 24 [0/50000 (0%)]\tLoss: 2.410127\n",
            "Train Epoch: 24 [40000/50000 (80%)]\tLoss: 1.401630\n",
            "\n",
            "Validation set: Average loss: 1.6256, Accuracy: 4395/10000 (43%)\n",
            "\n",
            "Train Epoch: 25 [0/50000 (0%)]\tLoss: 1.398604\n",
            "Train Epoch: 25 [40000/50000 (80%)]\tLoss: 1.217162\n",
            "\n",
            "Validation set: Average loss: 1.6202, Accuracy: 4426/10000 (44%)\n",
            "\n",
            "Train Epoch: 26 [0/50000 (0%)]\tLoss: 1.325698\n",
            "Train Epoch: 26 [40000/50000 (80%)]\tLoss: 2.415255\n",
            "\n",
            "Validation set: Average loss: 1.6151, Accuracy: 4432/10000 (44%)\n",
            "\n",
            "Train Epoch: 27 [0/50000 (0%)]\tLoss: 1.280219\n",
            "Train Epoch: 27 [40000/50000 (80%)]\tLoss: 2.023754\n",
            "\n",
            "Validation set: Average loss: 1.6127, Accuracy: 4435/10000 (44%)\n",
            "\n",
            "Train Epoch: 28 [0/50000 (0%)]\tLoss: 2.280611\n",
            "Train Epoch: 28 [40000/50000 (80%)]\tLoss: 1.360426\n",
            "\n",
            "Validation set: Average loss: 1.6086, Accuracy: 4466/10000 (44%)\n",
            "\n",
            "Train Epoch: 29 [0/50000 (0%)]\tLoss: 1.772745\n",
            "Train Epoch: 29 [40000/50000 (80%)]\tLoss: 1.248500\n",
            "\n",
            "Validation set: Average loss: 1.6061, Accuracy: 4464/10000 (44%)\n",
            "\n",
            "Train Epoch: 30 [0/50000 (0%)]\tLoss: 1.648405\n"
          ],
          "name": "stdout"
        }
      ]
    },
    {
      "metadata": {
        "colab_type": "code",
        "id": "u3SvVLEAp4xg",
        "colab": {}
      },
      "cell_type": "code",
      "source": [
        "# to save model use torch.save(model.state_dict(), 'Second_Net.pt') \n",
        "# to load use model.load_state_dict(torch.load('Second_Model.pt'))"
      ],
      "execution_count": 0,
      "outputs": []
    },
    {
      "metadata": {
        "colab_type": "code",
        "id": "p0Q-D23Qf4ii",
        "outputId": "3edd2f81-28ce-45c7-e745-621584528493",
        "colab": {
          "base_uri": "https://localhost:8080/",
          "height": 363
        }
      },
      "cell_type": "code",
      "source": [
        "# Plot train loss and validation accuracy vs epochs for each learning rate\n",
        "epochs = [i for i in range(1, 31)]\n",
        "plt.plot(epochs, loss_vector)\n",
        "plt.xlabel(\"Epochs\")\n",
        "plt.ylabel(\"Loss\")\n",
        "plt.show()"
      ],
      "execution_count": 0,
      "outputs": [
        {
          "output_type": "display_data",
          "data": {
            "image/png": "[encoded data removed]",
            "text/plain": [
              "<matplotlib.figure.Figure at 0x7f50a53e5a58>"
            ]
          },
          "metadata": {
            "tags": []
          }
        }
      ]
    },
    {
      "metadata": {
        "colab_type": "text",
        "id": "y9US-3ZjrSBI"
      },
      "cell_type": "markdown",
      "source": [
        "Попробуйте самостоятельно написать двуслойную сеть с дропаутом. Получилось ли улучшить результат?"
      ]
    },
    {
      "metadata": {
        "colab_type": "code",
        "id": "UZj3d7h7tRu9",
        "colab": {}
      },
      "cell_type": "code",
      "source": [
        "class TwoLayerNet(torch.nn.Module):\n",
        "    def __init__(self, n_hidden_nodes, n_hidden_layers,keep_rate=0):\n",
        "        super(TwoLayerNet, self).__init__()\n",
        "        self.n_hidden_nodes = n_hidden_nodes\n",
        "        self.n_hidden_layers = n_hidden_layers\n",
        "        if not keep_rate:\n",
        "            keep_rate = 0.5\n",
        "        self.keep_rate = keep_rate\n",
        "        # Set up perceptron layers and add dropout\n",
        "        self.fc1 = torch.nn.Linear(IMAGE_WIDTH * IMAGE_WIDTH * COLOR_CHANNELS,\n",
        "                                   n_hidden_nodes)\n",
        "        self.fc1_drop = torch.nn.Dropout(1 - keep_rate)\n",
        "        if n_hidden_layers == 2:\n",
        "            self.fc2 = #тут ваш код\n",
        "            self.fc2_drop = #тут ваш код\n",
        "\n",
        "        self.out = torch.nn.Linear(n_hidden_nodes, N_CLASSES)\n",
        "    \n",
        "    def forward(self, x):\n",
        "        x = x.view(-1, IMAGE_WIDTH * IMAGE_WIDTH * COLOR_CHANNELS)\n",
        "        sigmoid = torch.nn.Sigmoid()\n",
        "        #тут ваш код\n",
        "        return torch.nn.functional.log_softmax(self.out(x))"
      ],
      "execution_count": 0,
      "outputs": []
    },
    {
      "metadata": {
        "colab_type": "code",
        "id": "VFtgxjJ6rPVr",
        "colab": {}
      },
      "cell_type": "code",
      "source": [
        "<Ваш код здесь>"
      ],
      "execution_count": 0,
      "outputs": []
    }
  ]
}